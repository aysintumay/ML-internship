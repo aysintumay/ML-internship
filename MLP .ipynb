{
 "cells": [
  {
   "cell_type": "code",
   "execution_count": 1,
   "id": "5eab1e94",
   "metadata": {},
   "outputs": [],
   "source": [
    "import numpy as np\n",
    "import pandas as pd\n",
    "from pandas import DataFrame\n",
    "import statsmodels\n",
    "import datetime\n",
    "import matplotlib.pyplot as plt\n",
    "from sklearn.metrics import r2_score\n",
    "from statsmodels.tools.eval_measures import mse,rmse\n",
    "from sklearn.preprocessing import StandardScaler\n",
    "import torch\n",
    "import torch.nn as nn\n",
    "import torch.optim as optim\n",
    "import torch.nn.functional as F\n",
    "from sklearn.metrics import confusion_matrix\n",
    "from torch.utils.data import DataLoader\n",
    "from torch.nn import Linear\n",
    "from torch.nn import Linear\n",
    "from torch.nn import ReLU\n",
    "from numpy import vstack\n",
    "from torch.nn import Module\n",
    "from torch.optim import Adam,SGD\n",
    "from torch.nn import MSELoss\n",
    "from torch.nn.init import xavier_uniform_\n",
    "from torch.utils.data import Dataset\n",
    "from itertools import product\n",
    "torch.set_printoptions(linewidth=120)\n",
    "df = pd.read_csv('artificial_1.csv' ,parse_dates=[\"date\"])\n",
    "print(torch.__version__)\n",
    "\n",
    "#df.to_string()\n",
    "print(df.head())\n"
   ]
  },
  {
   "cell_type": "code",
   "execution_count": 660,
   "id": "8594dd28",
   "metadata": {},
   "outputs": [],
   "source": [
    "def evaluatereg(actual,prediction):\n",
    "    \n",
    "    return  (mse(actual, prediction), rmse(actual, prediction),r2_score(actual,prediction),np.mean(np.abs((prediction - actual) /np.abs(actual))) * 100) "
   ]
  },
  {
   "cell_type": "code",
   "execution_count": 661,
   "id": "13a63e94",
   "metadata": {},
   "outputs": [
    {
     "name": "stdout",
     "output_type": "stream",
     "text": [
      "          date      value  temperature  year  month  day  min_rolling  \\\n",
      "8   2018-01-09  45.319039          4.0  2018      1    9    63.698461   \n",
      "9   2018-01-10  44.750630          5.0  2018      1   10    39.238793   \n",
      "10  2018-01-11  46.462108          7.0  2018      1   11    39.238793   \n",
      "11  2018-01-12  42.939859          9.0  2018      1   12    39.238793   \n",
      "12  2018-01-13  44.677583         10.0  2018      1   13    44.750630   \n",
      "..         ...        ...          ...   ...    ...  ...          ...   \n",
      "725 2019-12-27  45.282996          6.0  2019     12   27    40.947501   \n",
      "726 2019-12-28  45.108031          5.0  2019     12   28    43.729539   \n",
      "727 2019-12-29  45.029418          5.0  2019     12   29    43.729539   \n",
      "728 2019-12-30  70.865207          5.0  2019     12   30    43.729539   \n",
      "729 2019-12-31  67.049218          8.0  2019     12   31    45.029418   \n",
      "\n",
      "     mean_rolling  max_rolling  min_expanding  mean_expanding  max_expanding  \\\n",
      "8       66.102894    67.744812      63.698461       66.674304      72.624345   \n",
      "9       56.894022    67.744812      39.238793       63.244865      72.624345   \n",
      "10      50.767548    67.744812      39.238793       61.253107      72.624345   \n",
      "11      43.102821    45.319039      39.238793       59.602859      72.624345   \n",
      "12      45.510592    46.462108      39.238793       58.408245      72.624345   \n",
      "..            ...          ...            ...             ...            ...   \n",
      "725     43.487161    45.017956      27.762913       49.965445      72.624345   \n",
      "726     44.414507    45.017956      27.762913       49.956844      72.624345   \n",
      "727     44.676830    45.282996      27.762913       49.950406      72.624345   \n",
      "728     44.706855    45.282996      27.762913       49.943746      72.624345   \n",
      "729     45.140148    45.282996      27.762913       49.936995      72.624345   \n",
      "\n",
      "           t-1        t-2        t-3        t-7        t-8  \n",
      "8    39.238793  67.744812  63.698461  65.388244  72.624345  \n",
      "9    45.319039  39.238793  67.744812  65.471828  65.388244  \n",
      "10   44.750630  45.319039  39.238793  64.927031  65.471828  \n",
      "11   46.462108  44.750630  45.319039  66.865408  64.927031  \n",
      "12   42.939859  46.462108  44.750630  63.698461  66.865408  \n",
      "..         ...        ...        ...        ...        ...  \n",
      "725  43.729539  45.017956  44.496026  66.312239  66.807456  \n",
      "726  45.282996  43.729539  45.017956  65.806678  66.312239  \n",
      "727  45.108031  45.282996  43.729539  63.923198  65.806678  \n",
      "728  45.029418  45.108031  45.282996  40.947501  63.923198  \n",
      "729  70.865207  45.029418  45.108031  44.496026  40.947501  \n",
      "\n",
      "[722 rows x 17 columns]\n"
     ]
    }
   ],
   "source": [
    "from pandas import concat\n",
    "temps = DataFrame(df.value)\n",
    "len(temps)\n",
    "width = 3\n",
    "window4 = temps.shift(2).expanding()\n",
    "shifted = temps.shift(width - 1)\n",
    "window = shifted.rolling(window=width)\n",
    "dataframe = concat([window.min(), window.mean(), window.max()], axis=1)\n",
    "dataframe.columns = [ 'min_value', 'mean_value', 'max_value']\n",
    "temps = DataFrame(df.value)\n",
    "\n",
    "\n",
    "dates = pd.to_datetime(df.date)\n",
    "test_df = df.copy()\n",
    "test_df[\"year\"] = dates.dt.year\n",
    "test_df[\"month\"] = dates.dt.month\n",
    "test_df[\"day\"] = dates.dt.day\n",
    "\n",
    "\n",
    "dataframe3= pd.concat([test_df[\"year\"], test_df[\"month\"],test_df[\"day\"], dataframe.min_value, dataframe.mean_value, dataframe.max_value, window4.min(), window4.mean(), window4.max(), temps.shift(1), temps.shift(2), temps.shift(3),temps.shift(7),temps.shift(8)],axis=1)\n",
    "\n",
    "dataframe3.columns = [ 'year', 'month', 'day','min_rolling','mean_rolling',  'max_rolling','min_expanding', 'mean_expanding', 'max_expanding','t-1','t-2','t-3','t-7','t-8']\n",
    "\n",
    "dataframeee=[df,dataframe3]\n",
    "\n",
    "dataframe2= pd.concat(dataframeee, \"columns\").dropna()\n",
    "\n",
    "print(dataframe2)\n",
    "#seasons\n",
    "seasonsdataframe=DataFrame()\n",
    "l=[]\n",
    "for i in test_df.month.values:\n",
    "    if i== 6 or 7 or 8:\n",
    "        l.append('2')\n",
    "    if i == 3 or 4 or 5:\n",
    "        l.append('1')\n",
    "    if i== 9 or 10 or 11:\n",
    "        l.append('3')\n",
    "    if i== 12 or 1 or 2:\n",
    "        l.append('4')\n",
    "seasonsdataframe = pd.DataFrame(l)\n",
    "seasonsdataframe.columns= ['seasons']\n",
    "dataframe2[\"seasons\"]=seasonsdataframe.seasons\n",
    "dataframe2['sin_month'] = np.sin((dataframe2.month-1)*(2.*np.pi/12))\n",
    "dataframe2['cos_month'] = np.cos((dataframe2.month-1)*(2.*np.pi/12))"
   ]
  },
  {
   "cell_type": "code",
   "execution_count": 662,
   "id": "d27ad913",
   "metadata": {},
   "outputs": [],
   "source": [
    "dataf = df.value.copy()\n",
    "shifted6 = dataf.shift(6)\n",
    "window7 = shifted6.rolling(7).mean()\n",
    "shifted7 = dataf.shift(7)\n",
    "window8= shifted7.rolling(8).mean()\n",
    "shifted4 = dataf.shift(4)\n",
    "window5 = shifted4.rolling(5).mean()\n",
    "shifted3 = dataf.shift(3)\n",
    "window4= shifted3.rolling(4).mean()\n",
    "shifted1 = dataf.shift(1)\n",
    "window2= shifted1.rolling(2).mean()\n",
    "#shifted8 = dataf.shift(8)\n",
    "#window9= shifted7.rolling(9).mean()\n",
    "window7.dropna()\n",
    "window8.dropna()\n",
    "window4.dropna()\n",
    "window5.dropna()\n",
    "window2.dropna()\n",
    "#window9.dropna()\n",
    "\n",
    "dataframe2[\"rolling7\"] = window7\n",
    "dataframe2[\"rolling8\"] =window8\n",
    "dataframe2[\"rolling4\"] =window4\n",
    "dataframe2[\"rolling5\"] =window5\n",
    "dataframe2[\"rolling2\"] =window2\n",
    "#dataframe2[\"rolling9\"] =window9\n",
    "dataframe2 = dataframe2.dropna()"
   ]
  },
  {
   "cell_type": "code",
   "execution_count": 574,
   "id": "96af97f2",
   "metadata": {},
   "outputs": [],
   "source": [
    "dataframe2copy=dataframe2.copy()\n",
    "train=dataframe2copy[:-60].drop(columns = \"date\")\n",
    "test=dataframe2copy[-60:].drop(columns = \"date\")\n",
    "x_train=train.drop(labels=[\"value\"],axis=1)\n",
    "y_train=train[\"value\"]\n",
    "x_test=test.drop(labels=[\"value\"],axis=1)\n",
    "y_test=test[\"value\"]\n",
    "\n"
   ]
  },
  {
   "cell_type": "code",
   "execution_count": 575,
   "id": "3bb3719c",
   "metadata": {},
   "outputs": [
    {
     "data": {
      "text/plain": [
       "tensor([43.1047, 45.0897, 71.4103, 56.8599, 55.1013, 56.3197, 56.3182, 55.9808, 56.1500, 30.4635, 35.3979, 34.0040,\n",
       "        33.8041, 47.5060, 46.9198, 43.6083, 71.4502, 66.6274, 66.7513, 66.1404, 65.0731, 65.8176, 65.5089, 30.1344,\n",
       "        44.7316, 44.8683, 46.0186, 46.2306, 43.8189, 44.5401, 70.2092, 67.2237, 65.9406, 67.4490, 65.5224, 66.0260,\n",
       "        64.6513, 41.3025, 44.6374, 43.5148, 44.4075, 42.6951, 44.9682, 45.1125, 71.2881, 67.4981, 65.6990, 66.8075,\n",
       "        66.3122, 65.8067, 63.9232, 40.9475, 44.4960, 45.0180, 43.7295, 45.2830, 45.1080, 45.0294, 70.8652, 67.0492],\n",
       "       dtype=torch.float64)"
      ]
     },
     "execution_count": 575,
     "metadata": {},
     "output_type": "execute_result"
    }
   ],
   "source": [
    "torch.tensor(y_test.values)"
   ]
  },
  {
   "cell_type": "code",
   "execution_count": 576,
   "id": "a1924614",
   "metadata": {},
   "outputs": [],
   "source": [
    "from sklearn.preprocessing import MinMaxScaler\n",
    "\n",
    "# fit scaler on training data\n",
    "norm = MinMaxScaler().fit(x_train)\n",
    "\n",
    "# transform training data\n",
    "X_train_norm = norm.transform(x_train)\n",
    "\n",
    "# transform testing dataabs\n",
    "X_test_norm = norm.transform(x_test)"
   ]
  },
  {
   "cell_type": "code",
   "execution_count": 577,
   "id": "99a2f008",
   "metadata": {},
   "outputs": [],
   "source": [
    "class Energycsv(Dataset):\n",
    "    def __init__(self,df):\n",
    "        self.df = df\n",
    "        self.X = df.values[:, 2:].astype('float32')\n",
    "        self.y = df.values[:, 1].astype('float32')\n",
    "        self.y = self.y.reshape((len(self.y), 1))\n",
    "        \n",
    "    def __len__(self):\n",
    "        return len(self.X)\n",
    " \n",
    "    # get a row at an index\n",
    "    def __getitem__(self, i):\n",
    "        return torch.tensor(self.X[i]), torch.tensor(self.y[i])"
   ]
  },
  {
   "cell_type": "code",
   "execution_count": 640,
   "id": "b4e1e552",
   "metadata": {},
   "outputs": [],
   "source": [
    "class MLP(Module):\n",
    "    def __init__(self,n_inputs):\n",
    "        super(MLP, self).__init__()\n",
    "        # input to first hidden layer\n",
    "        self.hidden1 = Linear(n_inputs, 10)\n",
    "        xavier_uniform_(self.hidden1.weight)\n",
    "        self.act1 = ReLU()\n",
    "        self.hidden3 = Linear(10, 1)\n",
    "        xavier_uniform_(self.hidden3.weight)\n",
    "    def forward(self, X):\n",
    "        X = self.hidden1(X)\n",
    "        X = self.act1(X)\n",
    "        X = self.hidden3(X)\n",
    "        return X\n",
    "       \n",
    "def prepare_data(train, test,batch_size,shuffle):\n",
    "        train_dl = DataLoader(train, batch_size=batch_size, shuffle=shuffle)\n",
    "        test_dl = DataLoader(test, batch_size=batch_size, shuffle=shuffle)\n",
    "        return train_dl, test_dl\n",
    "def train_model(train_dl, model, learning_rate,epochs):\n",
    "        errorlist = []\n",
    "        criterion = MSELoss()\n",
    "        optimizer = Adam(model.parameters(), lr=learning_rate)\n",
    "        for epoch in range(epochs):\n",
    "            for i, (inputs,targets) in enumerate(train_dl):\n",
    "                # clear the gradients\n",
    "                optimizer.zero_grad()\n",
    "                # compute the model output\n",
    "                yhat = model(inputs)\n",
    "                # calculate loss\n",
    "                loss = criterion(yhat, targets)\n",
    "                # credit assignment\n",
    "                loss.backward()\n",
    "                # update model weights\n",
    "                optimizer.step()\n",
    "            if epoch %10 ==0:\n",
    "                errorlist.append(evaluate_model(test_dl, model))\n",
    "        return errorlist\n",
    "def evaluate_model(test_dl,  model):\n",
    "        preds, actuals = list(), list()\n",
    "        errorlist = []\n",
    "        for k, (inputs, targets) in enumerate(test_dl):\n",
    "            yhat = model(inputs)\n",
    "            yhat = yhat.detach().numpy()\n",
    "            actual = targets.numpy()\n",
    "            actual = actual.reshape(len(actual),1)\n",
    "            preds.append(yhat)\n",
    "            actuals.append(actual)\n",
    "        preds, actuals = vstack(preds), vstack(actuals)\n",
    "        mean_sqrt_error = mse(actuals, preds)\n",
    "        R2 = r2_score(actuals, preds)\n",
    "        return mean_sqrt_error\n",
    "def predict(ytest,model):\n",
    "        ytest=torch.tensor(np.array(ytest).astype('float32'))\n",
    "        \n",
    "        yhat= model(ytest)\n",
    "        yhat = yhat.detach().numpy()\n",
    "        return yhat"
   ]
  },
  {
   "cell_type": "code",
   "execution_count": null,
   "id": "7ab875e2",
   "metadata": {},
   "outputs": [
    {
     "name": "stdout",
     "output_type": "stream",
     "text": [
      "learning rate: 0.000, epoch: 100.000, shuffle: 1.000,batch_size: 1.000, MSE:17.989\n",
      "learning rate: 0.000, epoch: 100.000, shuffle: 1.000,batch_size: 10.000, MSE:248.978\n",
      "learning rate: 0.000, epoch: 100.000, shuffle: 1.000,batch_size: 100.000, MSE:170.797\n",
      "learning rate: 0.000, epoch: 100.000, shuffle: 0.000,batch_size: 1.000, MSE:37.690\n",
      "learning rate: 0.000, epoch: 100.000, shuffle: 0.000,batch_size: 10.000, MSE:113.376\n",
      "learning rate: 0.000, epoch: 100.000, shuffle: 0.000,batch_size: 100.000, MSE:228.605\n",
      "learning rate: 0.000, epoch: 200.000, shuffle: 1.000,batch_size: 1.000, MSE:12.877\n",
      "learning rate: 0.000, epoch: 200.000, shuffle: 1.000,batch_size: 10.000, MSE:50.680\n",
      "learning rate: 0.000, epoch: 200.000, shuffle: 1.000,batch_size: 100.000, MSE:373.270\n",
      "learning rate: 0.000, epoch: 200.000, shuffle: 0.000,batch_size: 1.000, MSE:28.748\n",
      "learning rate: 0.000, epoch: 200.000, shuffle: 0.000,batch_size: 10.000, MSE:74.631\n",
      "learning rate: 0.000, epoch: 200.000, shuffle: 0.000,batch_size: 100.000, MSE:334.831\n",
      "learning rate: 0.001, epoch: 100.000, shuffle: 1.000,batch_size: 1.000, MSE:14.934\n",
      "learning rate: 0.001, epoch: 100.000, shuffle: 1.000,batch_size: 10.000, MSE:22.251\n",
      "learning rate: 0.001, epoch: 100.000, shuffle: 1.000,batch_size: 100.000, MSE:340.420\n",
      "learning rate: 0.001, epoch: 100.000, shuffle: 0.000,batch_size: 1.000, MSE:70.184\n",
      "learning rate: 0.001, epoch: 100.000, shuffle: 0.000,batch_size: 10.000, MSE:78.867\n",
      "learning rate: 0.001, epoch: 100.000, shuffle: 0.000,batch_size: 100.000, MSE:151.223\n",
      "learning rate: 0.001, epoch: 200.000, shuffle: 1.000,batch_size: 1.000, MSE:15.801\n",
      "learning rate: 0.001, epoch: 200.000, shuffle: 1.000,batch_size: 10.000, MSE:18.782\n",
      "learning rate: 0.001, epoch: 200.000, shuffle: 1.000,batch_size: 100.000, MSE:18.376\n",
      "learning rate: 0.001, epoch: 200.000, shuffle: 0.000,batch_size: 1.000, MSE:76.374\n",
      "learning rate: 0.001, epoch: 200.000, shuffle: 0.000,batch_size: 10.000, MSE:159.108\n",
      "learning rate: 0.001, epoch: 200.000, shuffle: 0.000,batch_size: 100.000, MSE:27.954\n",
      "learning rate: 0.010, epoch: 100.000, shuffle: 1.000,batch_size: 1.000, MSE:15.551\n",
      "learning rate: 0.010, epoch: 100.000, shuffle: 1.000,batch_size: 10.000, MSE:103.936\n",
      "learning rate: 0.010, epoch: 100.000, shuffle: 1.000,batch_size: 100.000, MSE:48.104\n",
      "learning rate: 0.010, epoch: 100.000, shuffle: 0.000,batch_size: 1.000, MSE:199.746\n"
     ]
    }
   ],
   "source": [
    "train = Energycsv(dataframe2.iloc[:-60])\n",
    "test = Energycsv(dataframe2.iloc[-60:])\n",
    "parameters = dict(\n",
    "                lr = [0.0001, 0.001, 0.01],\n",
    "                epoch_size = [100, 200],\n",
    "                shuffle = [True,False],\n",
    "                batch_size = [1,10,100]\n",
    ")\n",
    "param_values = [v for v in parameters.values()] \n",
    "error_of_choice= []\n",
    "whole_turns = []\n",
    "for lr,epoch_size, shuffle, batch_size in product(*param_values):\n",
    "\n",
    "    #print('learning rate: %.3f, epoch: %.3f, shuffle: %.3f,batch_size: %.3' % (lr,epoch_size,shuffle,batch_size))\n",
    "    train_dl, test_dl = prepare_data(train,test,batch_size,shuffle)\n",
    "    #print(len(train_dl.dataset), len(test_dl.dataset))\n",
    "    model = MLP(23)\n",
    "\n",
    "    # train the model\n",
    "    errorrrr  = train_model(train_dl, model,lr,epoch_size)\n",
    "\n",
    "    # evaluate the model \n",
    "    MSE = evaluate_model(test_dl, model)\n",
    "    error_of_choice.append(MSE)\n",
    "    whole_turns.append([lr,epoch_size, shuffle, batch_size,MSE]) \n",
    "    print('learning rate: %.3f, epoch: %.3f, shuffle: %.3f,batch_size: %.3f, MSE:%.3f' % \n",
    "          (lr,epoch_size,shuffle,batch_size,MSE))"
   ]
  },
  {
   "cell_type": "code",
   "execution_count": 642,
   "id": "9c42e3db",
   "metadata": {},
   "outputs": [
    {
     "name": "stdout",
     "output_type": "stream",
     "text": [
      "Best paramteres for the network: learning rate: 0.0001 epoch: 200 shuffle: True batch_size: 1 MSE: [12.8774]\n"
     ]
    }
   ],
   "source": [
    "#print(error_of_choice)\n",
    "min_error_index =error_of_choice.index(min(error_of_choice))\n",
    "choice = whole_turns[min_error_index]\n",
    "print('Best parametres for the network:','learning rate:',choice[0],'epoch:',choice[1], 'shuffle:',choice[2],'batch_size:',choice[3], 'MSE:', choice[4])          \n",
    "#print('MSE: %.3f, RMSE: %.3f' % (MSE, np.sqrt(MSE)))\n"
   ]
  },
  {
   "cell_type": "code",
   "execution_count": 648,
   "id": "11140fc5",
   "metadata": {},
   "outputs": [],
   "source": [
    "\n",
    "train_dl, test_dl = prepare_data(train,test,1,True)\n",
    "#print(len(train_dl.dataset), len(test_dl.dataset))\n",
    "model = MLP(23)\n",
    "errorrrr  = train_model(train_dl, model,0.0001,200)\n",
    "# make prediction for 60 rows\n",
    "prediction_y = predict(x_test, model)"
   ]
  },
  {
   "cell_type": "code",
   "execution_count": 656,
   "id": "e95e2d57",
   "metadata": {},
   "outputs": [
    {
     "name": "stdout",
     "output_type": "stream",
     "text": [
      "MSE: 14.100, RMSE: 3.755, R2 score: 0.904, MAPE: 6.025\n"
     ]
    }
   ],
   "source": [
    "#print(prediction_y)\n",
    "r2_score(y_test, prediction_y)\n",
    "print('MSE: %.3f, RMSE: %.3f, R2 score: %.3f, MAPE: %.3f' %evaluatereg(np.array(y_test).reshape(-1,1), prediction_y))"
   ]
  },
  {
   "cell_type": "code",
   "execution_count": 657,
   "id": "e9b5613f",
   "metadata": {},
   "outputs": [
    {
     "data": {
      "text/plain": [
       "<matplotlib.legend.Legend at 0x28e90477e48>"
      ]
     },
     "execution_count": 657,
     "metadata": {},
     "output_type": "execute_result"
    },
    {
     "data": {
      "image/png": "[encoded data removed]",
      "text/plain": [
       "<Figure size 432x288 with 1 Axes>"
      ]
     },
     "metadata": {
      "needs_background": "light"
     },
     "output_type": "display_data"
    }
   ],
   "source": [
    "plt.title('Predicted vs Test Values')\n",
    "plt.xlabel('date')\n",
    "plt.ylabel('Energy Value')\n",
    "plt.plot(dataframe2.date.iloc[-60:],y_test)\n",
    "plt.plot(dataframe2.date.iloc[-60:],prediction_y)\n",
    "plt.legend([\"test\",\"predictions\"])"
   ]
  },
  {
   "cell_type": "code",
   "execution_count": 658,
   "id": "a276dfeb",
   "metadata": {},
   "outputs": [
    {
     "data": {
      "text/plain": [
       "[<matplotlib.lines.Line2D at 0x28e904e8588>]"
      ]
     },
     "execution_count": 658,
     "metadata": {},
     "output_type": "execute_result"
    },
    {
     "data": {
      "image/png": "[encoded data removed]",
      "text/plain": [
       "<Figure size 432x288 with 1 Axes>"
      ]
     },
     "metadata": {
      "needs_background": "light"
     },
     "output_type": "display_data"
    }
   ],
   "source": [
    "plt.title('MSE vs Epoch')\n",
    "plt.xlabel('number of epochs')\n",
    "plt.ylabel('MSE')\n",
    "\n",
    "plt.plot(np.arange(1,200,10),errorrrr)"
   ]
  }
 ],
 "metadata": {
  "kernelspec": {
   "display_name": "Python 3",
   "language": "python",
   "name": "python3"
  },
  "language_info": {
   "codemirror_mode": {
    "name": "ipython",
    "version": 3
   },
   "file_extension": ".py",
   "mimetype": "text/x-python",
   "name": "python",
   "nbconvert_exporter": "python",
   "pygments_lexer": "ipython3",
   "version": "3.7.4"
  }
 },
 "nbformat": 4,
 "nbformat_minor": 5
}
